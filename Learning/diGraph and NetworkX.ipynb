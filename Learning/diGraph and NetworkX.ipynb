{
 "cells": [
  {
   "cell_type": "code",
   "execution_count": 1,
   "metadata": {},
   "outputs": [],
   "source": [
    "import diGraph\n",
    "import networkx\n",
    "import numpy as np\n",
    "import matplotlib.pyplot as plt"
   ]
  },
  {
   "cell_type": "code",
   "execution_count": 2,
   "metadata": {},
   "outputs": [],
   "source": [
    "# Instantiates a graph\n",
    "graph = networkx.Graph()"
   ]
  },
  {
   "cell_type": "code",
   "execution_count": 3,
   "metadata": {},
   "outputs": [],
   "source": [
    "# ADDING NODES TO A GRAPH\n",
    "# Add a node\n",
    "# Nodes can be anything except None\n",
    "# Anything that can __hashable__\n",
    "graph.add_node(1)\n",
    "\n",
    "# Add a list of nodes\n",
    "graph.add_nodes_from([2, 3])"
   ]
  },
  {
   "cell_type": "code",
   "execution_count": 4,
   "metadata": {},
   "outputs": [],
   "source": [
    "# ADDING EDGES TO NODES\n",
    "# Add an edge to a node\n",
    "# Edges can be associated with any object\n",
    "graph.add_edge(1, 2)\n",
    "\n",
    "# Add another edge from the additional nodes\n",
    "# using iterable expansion\n",
    "e = (2, 3)\n",
    "graph.add_edge(*e)\n",
    "\n",
    "# Add multiple edges using a listof node\n",
    "# tuples\n",
    "node_edges = [(1, 2), (2, 3)]\n",
    "graph.add_edges_from(node_edges)\n",
    "\n",
    "# Additional information can be added \n",
    "# to the edges by using a dictionary\n",
    "node_edges = [\n",
    "    (1, 2, {\"weight\": 5}),\n",
    "    (2, 3, {\"weight\": 10}),\n",
    "    (1, 3, {\"weight\": 15})\n",
    "]\n",
    "graph.add_edges_from(node_edges)"
   ]
  },
  {
   "cell_type": "code",
   "execution_count": 5,
   "metadata": {},
   "outputs": [
    {
     "name": "stdout",
     "output_type": "stream",
     "text": [
      "Number of edges: 3\n",
      "Number of nodes: 3\n",
      "Degree of 1: 2\n"
     ]
    }
   ],
   "source": [
    "# GRAPH PROPERTIES\n",
    "# properties of the graph can be extracted using\n",
    "n_edges = graph.number_of_edges()\n",
    "print(\"Number of edges: %d\" % n_edges)\n",
    "\n",
    "n_nodes = graph.number_of_nodes()\n",
    "print(\"Number of nodes: %d\" % n_nodes)\n",
    "\n",
    "# The degree can be extracted by the nodes\n",
    "# which corresponds to the number of edges\n",
    "# incident to 1\n",
    "degree_1 = graph.degree[1]\n",
    "print(\"Degree of 1: %d\" % degree_1)"
   ]
  },
  {
   "cell_type": "code",
   "execution_count": 6,
   "metadata": {},
   "outputs": [
    {
     "name": "stdout",
     "output_type": "stream",
     "text": [
      "Adjacents to 1: {2: {'weight': 5}, 3: {'weight': 15}}\n",
      "Adjacents to 1: {2: {'weight': 5}, 3: {'weight': 15}}\n"
     ]
    }
   ],
   "source": [
    "# NODE NEIGHBORS AND EDGES\n",
    "# Neighbors and edges can be accessed using subscripts\n",
    "# and methods\n",
    "adjacent_1 = graph[1]\n",
    "print(\"Adjacents to 1: %s\" % adjacent_1)\n",
    "\n",
    "# The above is subscripting and the below is using the\n",
    "# adjacent value to extract the first value\n",
    "adjacent_1 = graph.adj[1]\n",
    "print(\"Adjacents to 1: %s\" % adjacent_1)"
   ]
  },
  {
   "cell_type": "code",
   "execution_count": 7,
   "metadata": {},
   "outputs": [
    {
     "name": "stdout",
     "output_type": "stream",
     "text": [
      "{'day': 'Friday'}\n",
      "After attribute change\n",
      "{'day': 'Monday'}\n"
     ]
    }
   ],
   "source": [
    "# GRAPH ATTRIBUTES\n",
    "# Graphs can have attributes when creating a new one\n",
    "ng = networkx.Graph(day=\"Friday\")\n",
    "print(ng.graph)\n",
    "\n",
    "# these attributes can be modified later on\n",
    "ng.graph['day'] = 'Monday'\n",
    "print(\"After attribute change\")\n",
    "print(ng.graph)"
   ]
  },
  {
   "cell_type": "code",
   "execution_count": 8,
   "metadata": {},
   "outputs": [
    {
     "name": "stdout",
     "output_type": "stream",
     "text": [
      "{'time': '5pm'}\n",
      "{'time': '5pm', 'Room': 'R714'}\n"
     ]
    },
    {
     "data": {
      "text/plain": [
       "NodeDataView({1: {'time': '5pm', 'Room': 'R714'}, 3: {'time': '2pm'}})"
      ]
     },
     "execution_count": 8,
     "metadata": {},
     "output_type": "execute_result"
    }
   ],
   "source": [
    "# NODE ATTRIBUTES\n",
    "# Nodes can have attributes added onto them when adding\n",
    "# the said nodes to a graph\n",
    "ng.add_node(1, time=\"5pm\")\n",
    "\n",
    "# Multiple nodes can be added with similar attributes to\n",
    "# them \n",
    "ng.add_nodes_from(\n",
    "    [3], time=\"2pm\"\n",
    ")\n",
    "\n",
    "print(ng.nodes[1])\n",
    "\n",
    "# Additional attributes can be added to the nodes using\n",
    "# the subscript notations\n",
    "ng.nodes[1][\"Room\"] = \"R714\"\n",
    "\n",
    "print(ng.nodes[1])\n",
    "\n",
    "# The whole data added to the node can be extracted using\n",
    "# the data method for the graph\n",
    "ng.nodes.data()"
   ]
  },
  {
   "cell_type": "code",
   "execution_count": 9,
   "metadata": {},
   "outputs": [
    {
     "name": "stdout",
     "output_type": "stream",
     "text": [
      "{'weight': 4.7}\n",
      "{'color': 'red'}\n",
      "{'color': 'red'}\n",
      "{'weight': 12.42}\n"
     ]
    }
   ],
   "source": [
    "# EDGE ATTRIBUTES\n",
    "# Adds a weight parameter to the edges that is \n",
    "# an attribute of the edge\n",
    "ng.add_edge(1, 2, weight=4.7)\n",
    "print(ng.edges[1, 2])\n",
    "\n",
    "# Common attributes can be added to the \n",
    "# edge below indicating that the \n",
    "ng.add_edges_from([\n",
    "    (3, 4),\n",
    "    (4, 5),],\n",
    "    color='red'\n",
    ")\n",
    "print(ng.edges[3, 4])\n",
    "print(ng.edges[4, 5])\n",
    "\n",
    "# The attributes can also be adjusted using the \n",
    "# property parameters as for nodes and graphs\n",
    "ng.edges[1, 2][\"weight\"] = 12.42\n",
    "print(ng.edges[1, 2])"
   ]
  },
  {
   "cell_type": "code",
   "execution_count": 10,
   "metadata": {},
   "outputs": [
    {
     "name": "stdout",
     "output_type": "stream",
     "text": [
      "Out Degree at 1: 0\n",
      "Degree at 1: 1\n",
      "Successors: [2]\n",
      "Neighbors: [2]\n"
     ]
    }
   ],
   "source": [
    "# DIRECTED GRAPHS\n",
    "# provides specific properties that are specific to\n",
    "# directed graphs\n",
    "dgr = networkx.DiGraph()\n",
    "\n",
    "# this adds the weight to the edges where in the previous\n",
    "# graph structure the weights are attributes to the \n",
    "# edges\n",
    "dgr.add_weighted_edges_from(\n",
    "    [(1, 2, 0.5), (3, 1, 0.75)]\n",
    ")\n",
    "print(\"Out Degree at 1: %d\" % dgr.out_degree(1, weight=\"weight\"))\n",
    "print(\"Degree at 1: %d\" % dgr.degree(1, weight=\"weight\"))\n",
    "print(\"Successors: %s\" % list(dgr.successors(1)))\n",
    "print(\"Neighbors: %s\" % list(dgr.neighbors(1)))\n",
    "\n",
    "# this graph can be converted to undirected using \n",
    "# the <diGraph>.to_undirected() method"
   ]
  },
  {
   "cell_type": "code",
   "execution_count": 11,
   "metadata": {},
   "outputs": [],
   "source": [
    "# MULTIGRAPHS\n",
    "# Allows for multiple edges between any pair of nodes. \n",
    "# It is powerful for some applications but not many algorithmns\n",
    "# are defined for such graphs. "
   ]
  },
  {
   "cell_type": "code",
   "execution_count": 12,
   "metadata": {},
   "outputs": [],
   "source": [
    "# GRAPH GENERATORS AND OPERATORS\n",
    "# Classic operators\n",
    "# Classic Small Graph Generators\n",
    "# Using a constructive generator for a small graph\n",
    "# Stochastic Graph Generators\n",
    "# Reading graphs stored in a file using common graph formats"
   ]
  },
  {
   "cell_type": "code",
   "execution_count": 13,
   "metadata": {},
   "outputs": [
    {
     "name": "stdout",
     "output_type": "stream",
     "text": [
      "[{1, 2}, {3, 4, 5}]\n"
     ]
    },
    {
     "ename": "NameError",
     "evalue": "name 'G' is not defined",
     "output_type": "error",
     "traceback": [
      "\u001b[0;31m---------------------------------------------------------------------------\u001b[0m",
      "\u001b[0;31mNameError\u001b[0m                                 Traceback (most recent call last)",
      "\u001b[0;32m<ipython-input-13-14ce4073bfce>\u001b[0m in \u001b[0;36m<module>\u001b[0;34m\u001b[0m\n\u001b[1;32m      5\u001b[0m \u001b[0;31m# Print the sorted list of degree based on the degree of the\u001b[0m\u001b[0;34m\u001b[0m\u001b[0;34m\u001b[0m\u001b[0;34m\u001b[0m\u001b[0m\n\u001b[1;32m      6\u001b[0m \u001b[0;31m# connections\u001b[0m\u001b[0;34m\u001b[0m\u001b[0;34m\u001b[0m\u001b[0;34m\u001b[0m\u001b[0m\n\u001b[0;32m----> 7\u001b[0;31m \u001b[0mprint\u001b[0m\u001b[0;34m(\u001b[0m\u001b[0;34m\"%s\"\u001b[0m \u001b[0;34m%\u001b[0m \u001b[0msorted\u001b[0m\u001b[0;34m(\u001b[0m\u001b[0md\u001b[0m \u001b[0;32mfor\u001b[0m \u001b[0mn\u001b[0m\u001b[0;34m,\u001b[0m \u001b[0md\u001b[0m \u001b[0;32min\u001b[0m \u001b[0mG\u001b[0m\u001b[0;34m.\u001b[0m\u001b[0mdegree\u001b[0m\u001b[0;34m(\u001b[0m\u001b[0;34m)\u001b[0m\u001b[0;34m)\u001b[0m\u001b[0;34m)\u001b[0m\u001b[0;34m\u001b[0m\u001b[0;34m\u001b[0m\u001b[0m\n\u001b[0m\u001b[1;32m      8\u001b[0m \u001b[0;34m\u001b[0m\u001b[0m\n\u001b[1;32m      9\u001b[0m \u001b[0;31m# Print the clustering in the graph\u001b[0m\u001b[0;34m\u001b[0m\u001b[0;34m\u001b[0m\u001b[0;34m\u001b[0m\u001b[0m\n",
      "\u001b[0;31mNameError\u001b[0m: name 'G' is not defined"
     ]
    }
   ],
   "source": [
    "# ANALYZING GRAPHS\n",
    "# Graph-theoretic functions can be used to analyze the graphs\n",
    "print(\"%s\" % list(networkx.connected_components(ng)))\n",
    "\n",
    "# Print the sorted list of degree based on the degree of the \n",
    "# connections\n",
    "print(\"%s\" % sorted(d for n, d in G.degree()))\n",
    "\n",
    "# Print the clustering in the graph\n",
    "print(\"%s\" % networkx.clustering(ng))\n",
    "\n",
    "# Find the shortest path across all tuple pairs \n",
    "# of distance in the graph using the functions\n",
    "sp = dict(networkx.all_pairs_shortest_path(ng))\n",
    "print(sp[3])"
   ]
  },
  {
   "cell_type": "code",
   "execution_count": null,
   "metadata": {},
   "outputs": [],
   "source": [
    "# DRAWING GRAPHS\n",
    "# Draws the graph below and the second\n",
    "# one draws with the list correctly and shells can be\n",
    "# drawn with `draw_shell()` \n",
    "pg = networkx.petersen_graph()\n",
    "plt.subplot(121)\n",
    "networkx.draw(pg, with_labels=True, font_weight=\"bold\")\n",
    "plt.subplot(122)\n",
    "networkx.draw(pg, nlist=[range(5, 10), range(5)],\n",
    "              with_labels=True, font_weight=\"bold\")\n",
    "plt.show()"
   ]
  },
  {
   "cell_type": "code",
   "execution_count": null,
   "metadata": {},
   "outputs": [],
   "source": []
  }
 ],
 "metadata": {
  "kernelspec": {
   "display_name": "Python 3",
   "language": "python",
   "name": "python3"
  },
  "language_info": {
   "codemirror_mode": {
    "name": "ipython",
    "version": 3
   },
   "file_extension": ".py",
   "mimetype": "text/x-python",
   "name": "python",
   "nbconvert_exporter": "python",
   "pygments_lexer": "ipython3",
   "version": "3.6.10"
  }
 },
 "nbformat": 4,
 "nbformat_minor": 4
}
