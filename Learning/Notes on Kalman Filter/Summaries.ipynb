{
 "cells": [
  {
   "cell_type": "markdown",
   "metadata": {},
   "source": [
    "# 1. The g-h Filter"
   ]
  },
  {
   "cell_type": "markdown",
   "metadata": {},
   "source": [
    "# 2. Discrete Bayes Filter"
   ]
  },
  {
   "cell_type": "markdown",
   "metadata": {},
   "source": [
    "# 3. Gaussian Probabilities\n",
    "\n",
    "- The fundamental property of gaussian is that multiplying two Gaussians result in another Gaussian\n",
    "- Central Limit Theorem states that if there are many measurements, the measurements will be normally distributed\n",
    "- Standard notation for a normal distribution for a random variable $X$ is $X \\sim N(\\mu, \\sigma^2)$\n",
    "    - This means that a value can be captured as a Gaussian by providing just two values that is the mean, and the variance. \n",
    "- Narrow Probability Density Distribution (PDD) points to higher sureness on the value\n",
    "- Wide PDDs indicate an uncertainty in the value\n",
    "- Standard deviations indicate how much of variation from the mean exists\n",
    "    - 68% of data falls within $1\\sigma$ deviation of the mean\n",
    "    - 95% of data falls wihtin $2\\sigma$ deviation of the mean\n",
    "    - If the average score is 85 with a standard deviation of 4.3, then 95% of students scored between 61 and 93.6.\n",
    "- The reciprocal of the variance $\\tau$ is the precision as variance is the precision of the data given a signal.\n",
    "     - small variance indicates higher precision\n",
    "- Precision of the measurement and the variance of measurement are different ways of stating the same fact"
   ]
  }
 ],
 "metadata": {
  "kernelspec": {
   "display_name": "Python 3",
   "language": "python",
   "name": "python3"
  },
  "language_info": {
   "codemirror_mode": {
    "name": "ipython",
    "version": 3
   },
   "file_extension": ".py",
   "mimetype": "text/x-python",
   "name": "python",
   "nbconvert_exporter": "python",
   "pygments_lexer": "ipython3",
   "version": "3.6.4"
  }
 },
 "nbformat": 4,
 "nbformat_minor": 2
}
