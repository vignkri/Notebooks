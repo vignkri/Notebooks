{
 "cells": [
  {
   "cell_type": "code",
   "execution_count": 70,
   "metadata": {},
   "outputs": [],
   "source": [
    "import numpy as np"
   ]
  },
  {
   "cell_type": "markdown",
   "metadata": {},
   "source": [
    "# Math of Kalman Filter\n",
    "\n",
    "Each physical system has a process. For example, a car traveling at a certain velocity goes so far in a fixed amount of time and its velocity varies as a function of its acceleration. \n",
    "\n",
    "$$v = at$$\n",
    "\n",
    "$$x=\\frac{1}{2}at^2 + v_0 t + x_0$$\n",
    "\n",
    "Perfectly modeling a system is impossible except for the most trivial of problems. At any time $t$, we say that the true state is the predicted value from the model plus some process noise: $x(t) =  x_{pred}(t) + noise(t)$. After converting a higher order differential equations to a set of first-order differential equations, the system model without *noise* is: $\\dot{x} = Ax$ where $A$ is the systems dynamics matrix as it describes the dynamics of the system. We call the noise as $w$ and add it to the above equation. \n",
    "\n",
    "The input into the system is $u$ and there is a linear model that defines how the inpu changes the system. We have a matrix to convert the $u$ as the effect on the system. \n",
    "\n",
    "$$\\dot{x} = Ax + Bu + w$$"
   ]
  },
  {
   "cell_type": "markdown",
   "metadata": {},
   "source": [
    "## State Space Representation of Dynamic Systems\n",
    "\n",
    "We need to find $x$ and not the derivative of $x$ at time $t_k$ in terms of $x$ at time $t_{k-1}$. \n",
    "\n",
    "$$x(t_k) = F(\\Delta t)x(t_{k-1}) + B(t_k) u(t_k)$$ \n",
    "\n",
    "Now, $F$ is the transition matrix which enables the transition of the state's value between discrete time steps. The equation is recursive when we use the simplest possible differential equation integrated as $x_k = v \\Delta t + x_0$ and this recursive form enables us to represent the system in the form required by the Kalman filter. \n",
    "\n",
    "$$x_k = Fx_{k-1}$$\n",
    "\n",
    "More complex approaches require other complicated methods. *State-space* methods model the system with a set of nth order differential equations and then convert them into eequivalent set of first-order differential equations. There are several techniquest o convert the linear differential equations into the recursive equation:\n",
    "\n",
    "$$X_k = Fx_{k-1} + B_k U_k$$\n",
    "\n",
    "The state transition matrix $F$ is also called the fundamental matrix and these methods owe their name to the fact that the solution of the differential equations are expressed in terms of the system state."
   ]
  },
  {
   "cell_type": "code",
   "execution_count": null,
   "metadata": {},
   "outputs": [],
   "source": []
  }
 ],
 "metadata": {
  "kernelspec": {
   "display_name": "Python 3",
   "language": "python",
   "name": "python3"
  },
  "language_info": {
   "codemirror_mode": {
    "name": "ipython",
    "version": 3
   },
   "file_extension": ".py",
   "mimetype": "text/x-python",
   "name": "python",
   "nbconvert_exporter": "python",
   "pygments_lexer": "ipython3",
   "version": "3.6.8"
  }
 },
 "nbformat": 4,
 "nbformat_minor": 2
}
