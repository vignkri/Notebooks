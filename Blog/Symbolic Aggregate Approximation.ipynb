{
 "cells": [
  {
   "cell_type": "code",
   "execution_count": 1,
   "metadata": {},
   "outputs": [],
   "source": [
    "import math\n",
    "import string\n",
    "import numpy as np\n",
    "import scipy as sp\n",
    "import pandas as pd\n",
    "import seaborn as sns\n",
    "import itertools as itools\n",
    "import matplotlib.pyplot as plt\n",
    "sns.set_style(\"dark\")"
   ]
  },
  {
   "cell_type": "code",
   "execution_count": 2,
   "metadata": {},
   "outputs": [],
   "source": [
    "def paa(arr, sections):\n",
    "    try:\n",
    "        assert arr.shape[0] != sections\n",
    "    except AssertionError as e:\n",
    "        return np.copy(arr)\n",
    "    else:\n",
    "        if arr.shape[0] % sections == 0:\n",
    "            sectionarr = np.array_split(arr, sections)\n",
    "            res = np.array([item.mean() for item in sectionarr])\n",
    "            res = np.array(\n",
    "                [sample for item in res for sample in \n",
    "                [item.mean()] * item.shape[0]]\n",
    "            )\n",
    "        else:\n",
    "            sectionarr = np.zeros(sections)\n",
    "            space_size = np.arange(0, arr.shape[0] * sections - 1)\n",
    "            outputIndex = space_size // arr.shape[0]\n",
    "            inputIndex = space_size // sections\n",
    "            uniques, nUniques = np.unique(outputIndex, return_counts=True)\n",
    "            \n",
    "            res = [arr[indices].sum() / arr.shape[0] for indices in\n",
    "                   np.split(inputIndex, nUniques.cumsum())[:-1]]\n",
    "            indices = ([row.mean() for row in np.split(inputIndex, nUniques.cumsum())[:-1]])\n",
    "    return res"
   ]
  },
  {
   "cell_type": "markdown",
   "metadata": {},
   "source": [
    "# Symbolic Aggregate Approximation (SAX)\n",
    "\n",
    " In literature, SAX falls under the symbolic data-adaptive time series reprsentation systems. This is a method of approximation and representation of a time series as a set of symbols. SAX enables the reduction of an arbitrary length time series (n) to be reduced to a string of arbitrary length (w) where w < n. The process of SAX is first the time series data is transformed using Piecewise Aggregate Approximation (PAA) representation which is then symbolized using SAX to a time string. \n",
    "\n",
    "**Discretisation**\n",
    "\n",
    "One requirement for the discretisation technique is that the symbols are assigned by equiprobability. This is easier to achieve since normalised time series data have a Gaussian distribution. Therefore for discretisation, the equal sized areas (a) under the Gaussian curve can be used for creating breakpoints in the normalised data for assigning the symbols using breakpoints. \n",
    "\n",
    "**1** Breakpoints are a sorted list of numbers $\\beta = \\beta_1, ... \\beta_{a - 1}$ such that the area under the curve from $\\beta_i$ to $\\beta_{i+1} = 1/a$. These points can be obtained by looking up a statistical table.\n",
    "\n",
    "These breakpoints can be used to discretise the time series where the coefficients below the smallest breakpoint are mapped to the letter $a$ while the coefficients greater than or equal to the smallest breakpoint and less than the second breakpoint are assigned the letter $b$ and so on. Each letter is equiprobable and therefore a sequence of strings for example `abc` that represetnts the time series is called a word.\n",
    "\n",
    "**2** Word is a subsequence $C$ of a length $n$ that can be represented as a word. If $\\alpha_i$ is the ith element of the alphabet, then the mapping approximation of PAA to a word $\\hat{C}$ is obtained using:\n",
    "\n",
    "$$\n",
    "\\hat{c}_i = \\alpha_j\n",
    "$$\n",
    "\n",
    "if $\\beta_{j-1} \\leq \\bar{c}_i \\lt \\beta_j$. This defines the symbolic representation of the time series. "
   ]
  },
  {
   "cell_type": "code",
   "execution_count": 3,
   "metadata": {},
   "outputs": [],
   "source": [
    "t1 = np.array([2.02, 2.33, 2.99, 6.85, 9.20, 8.80, 7.50, 6.00, 5.85, 3.85, 4.85, 3.85, 2.22, 1.45, 1.34])\n",
    "t2 = np.array([3.12, 2.02, 2.33, 2.99, 6.85, 9.20, 8.80, 7.50, 6.00, 5.85, 3.85, 4.85, 3.85, 2.22, 1.45, 1.34])"
   ]
  },
  {
   "cell_type": "code",
   "execution_count": 4,
   "metadata": {},
   "outputs": [
    {
     "data": {
      "image/png": "[encoded data removed]",
      "text/plain": [
       "<matplotlib.figure.Figure at 0x7fa3d685e1d0>"
      ]
     },
     "metadata": {},
     "output_type": "display_data"
    }
   ],
   "source": [
    "plt.figure(figsize=(16, 4))\n",
    "plt.title(\"Piecewise Aggregate Approximation\", size=14, loc=\"right\")\n",
    "normed_t1 = (t1 - np.mean(t1)) / np.std(t1)\n",
    "plt.plot(range(1, 16), normed_t1, marker=\"o\", linewidth=0.5)\n",
    "res = paa(normed_t1, 7)\n",
    "plt.step([1, 3, 5, 7, 9, 11, 13, 15], np.insert(res, 0, res[0]),\n",
    "         color=\"red\", linestyle=\":\")\n",
    "plt.xticks(range(1, 16))\n",
    "plt.xlabel(\"Index\")\n",
    "plt.ylabel(\"TS Value\")\n",
    "# plt.savefig(\"./PAAStepFinal.png\", bbox_inches=\"tight\")\n",
    "plt.show()"
   ]
  },
  {
   "cell_type": "markdown",
   "metadata": {},
   "source": [
    "The above graph is example of the PAA which we dealt with earlier. Since the data is being split in to 7 sections, the number of symbols required is 7. The equiprobable areas of the gaussian curve for the gaussian curve can be obtained from a statistical lookup table. In Python the statistical lookup table can be built using the PPF (probability point function) function available in the `scipy.stats` module."
   ]
  },
  {
   "cell_type": "code",
   "execution_count": 5,
   "metadata": {},
   "outputs": [],
   "source": [
    "def lookupEquiprobableRegions(word_len):\n",
    "    \"\"\"Lookup equiprobable regions\"\"\"\n",
    "    regions = np.arange(0, word_len, 1) / word_len\n",
    "    return sp.stats.norm.ppf(regions)"
   ]
  },
  {
   "cell_type": "markdown",
   "metadata": {},
   "source": [
    "With the lookup table ready, the time series can now be assigned the letters depending on the index. This straightforward conversion can now occur with the equiprobable regions and the string list."
   ]
  },
  {
   "cell_type": "code",
   "execution_count": 6,
   "metadata": {},
   "outputs": [],
   "source": [
    "_symbols_ = string.ascii_lowercase"
   ]
  },
  {
   "cell_type": "code",
   "execution_count": 7,
   "metadata": {},
   "outputs": [],
   "source": [
    "eqRegions = lookupEquiprobableRegions(7)"
   ]
  },
  {
   "cell_type": "code",
   "execution_count": 8,
   "metadata": {},
   "outputs": [
    {
     "name": "stdout",
     "output_type": "stream",
     "text": [
      "String for the section is: cegfedb\n"
     ]
    }
   ],
   "source": [
    "size = len(eqRegions)\n",
    "paa = np.array(res)\n",
    "sax = list()\n",
    "# --\n",
    "for i in range(0, len(res)):\n",
    "    num = res[i]\n",
    "    if num >= 0:\n",
    "        j = size - 1\n",
    "        while ((j > 0) and (eqRegions[j] >= num)):\n",
    "            j = j - 1\n",
    "        sym = _symbols_[j]\n",
    "    else:\n",
    "        j = 1\n",
    "        while ((j < size) and (eqRegions[j] <= num)):\n",
    "            j = j + 1\n",
    "        sym = _symbols_[j]\n",
    "    # --\n",
    "    sax.append(sym)\n",
    "# --\n",
    "print(\"String for the section is: %s\" % (''.join(sax)))"
   ]
  },
  {
   "cell_type": "code",
   "execution_count": 9,
   "metadata": {},
   "outputs": [],
   "source": [
    "test = np.array(tuple(zip(eqRegions, eqRegions[1:])))"
   ]
  },
  {
   "cell_type": "code",
   "execution_count": 10,
   "metadata": {},
   "outputs": [],
   "source": [
    "sax = list()\n",
    "for val in paa:\n",
    "    bound_high = np.where(test[:, 1] >= val)[0]\n",
    "    bound_low = np.where(test[:, 0] <= val)[0]\n",
    "    try:\n",
    "        intersect = np.intersect1d(\n",
    "            bound_high, bound_low)[0]\n",
    "    except IndexError as e:\n",
    "        max_bound_low = bound_low.max()\n",
    "        intersect = max_bound_low + 1\n",
    "    if val < 0:\n",
    "        intersect += 1\n",
    "    sax.append(_symbols_[intersect])"
   ]
  },
  {
   "cell_type": "code",
   "execution_count": 11,
   "metadata": {},
   "outputs": [
    {
     "name": "stdout",
     "output_type": "stream",
     "text": [
      "String for the section is: cegfedb\n"
     ]
    }
   ],
   "source": [
    "print(\"String for the section is: %s\" % (''.join(sax)))"
   ]
  }
 ],
 "metadata": {
  "kernelspec": {
   "display_name": "Python 3",
   "language": "python",
   "name": "python3"
  },
  "language_info": {
   "codemirror_mode": {
    "name": "ipython",
    "version": 3
   },
   "file_extension": ".py",
   "mimetype": "text/x-python",
   "name": "python",
   "nbconvert_exporter": "python",
   "pygments_lexer": "ipython3",
   "version": "3.6.5"
  }
 },
 "nbformat": 4,
 "nbformat_minor": 2
}
